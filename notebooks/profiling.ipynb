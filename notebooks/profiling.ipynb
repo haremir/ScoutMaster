{
 "cells": [
  {
   "cell_type": "code",
   "execution_count": 1,
   "metadata": {},
   "outputs": [
    {
     "name": "stderr",
     "output_type": "stream",
     "text": [
      "c:\\Users\\emirh\\AppData\\Local\\Programs\\Python\\Python39\\lib\\site-packages\\tqdm\\auto.py:21: TqdmWarning: IProgress not found. Please update jupyter and ipywidgets. See https://ipywidgets.readthedocs.io/en/stable/user_install.html\n",
      "  from .autonotebook import tqdm as notebook_tqdm\n"
     ]
    }
   ],
   "source": [
    "import pandas as pd\n",
    "from ydata_profiling import ProfileReport"
   ]
  },
  {
   "cell_type": "code",
   "execution_count": 2,
   "metadata": {},
   "outputs": [],
   "source": [
    "# Veri yolları\n",
    "data_paths = {\n",
    "    \"train_raw\": r'C:\\Users\\emirh\\Desktop\\DOSYALAR\\veri_bilimi\\scoutmaster\\data\\raw_data\\train.csv',\n",
    "    \"test_raw\": r'C:\\Users\\emirh\\Desktop\\DOSYALAR\\veri_bilimi\\scoutmaster\\data\\raw_data\\test.csv',\n",
    "    \"train_processed\": r'C:\\Users\\emirh\\Desktop\\DOSYALAR\\veri_bilimi\\scoutmaster\\data\\processed_data\\processed_train.csv',\n",
    "    \"test_processed\": r'C:\\Users\\emirh\\Desktop\\DOSYALAR\\veri_bilimi\\scoutmaster\\data\\processed_data\\processed_test.csv'\n",
    "}\n",
    "\n",
    "# Verileri yükleme\n",
    "df_train_raw = pd.read_csv(data_paths[\"train_raw\"])\n",
    "df_test_raw = pd.read_csv(data_paths[\"test_raw\"])\n",
    "df_train_processed = pd.read_csv(data_paths[\"train_processed\"])\n",
    "df_test_processed = pd.read_csv(data_paths[\"test_processed\"])\n"
   ]
  },
  {
   "cell_type": "code",
   "execution_count": 3,
   "metadata": {},
   "outputs": [],
   "source": [
    "# Veri çerçeveleri ve isimler listesi\n",
    "df_list = [(df_train_raw, \"train_raw\"), \n",
    "           (df_test_raw, \"test_raw\"), \n",
    "           (df_train_processed, \"train_processed\"), \n",
    "           (df_test_processed, \"test_processed\")]\n"
   ]
  },
  {
   "cell_type": "code",
   "execution_count": 4,
   "metadata": {},
   "outputs": [
    {
     "name": "stderr",
     "output_type": "stream",
     "text": [
      "Summarize dataset: 100%|██████████| 2566/2566 [09:32<00:00,  4.48it/s, Completed]                                            \n",
      "Generate report structure: 100%|██████████| 1/1 [00:28<00:00, 28.48s/it]\n",
      "Render HTML: 100%|██████████| 1/1 [01:40<00:00, 100.11s/it]\n",
      "Export report to file: 100%|██████████| 1/1 [00:00<00:00,  1.37it/s]\n",
      "Summarize dataset: 100%|██████████| 2274/2274 [07:43<00:00,  4.91it/s, Completed]                                            \n",
      "Generate report structure: 100%|██████████| 1/1 [00:28<00:00, 28.08s/it]\n",
      "Render HTML: 100%|██████████| 1/1 [01:12<00:00, 72.33s/it]\n",
      "Export report to file: 100%|██████████| 1/1 [00:00<00:00,  1.75it/s]\n",
      "Summarize dataset: 100%|██████████| 3091/3091 [12:17<00:00,  4.19it/s, Completed]                                             \n",
      "Generate report structure: 100%|██████████| 1/1 [00:38<00:00, 38.09s/it]\n",
      "Render HTML: 100%|██████████| 1/1 [03:59<00:00, 239.76s/it]\n",
      "Export report to file: 100%|██████████| 1/1 [00:01<00:00,  1.25s/it]\n",
      "Summarize dataset: 100%|██████████| 3090/3090 [09:09<00:00,  5.62it/s, Completed]                                             \n",
      "Generate report structure: 100%|██████████| 1/1 [00:25<00:00, 25.02s/it]\n",
      "Render HTML: 100%|██████████| 1/1 [01:35<00:00, 95.74s/it]\n",
      "Export report to file: 100%|██████████| 1/1 [00:00<00:00,  1.88it/s]"
     ]
    },
    {
     "name": "stdout",
     "output_type": "stream",
     "text": [
      "Profil raporları oluşturuldu ve dosyalar kaydedildi.\n"
     ]
    },
    {
     "name": "stderr",
     "output_type": "stream",
     "text": [
      "\n"
     ]
    }
   ],
   "source": [
    "# Profil raporlarını oluşturma ve kaydetme\n",
    "for df, name in df_list:\n",
    "    profile = ProfileReport(df, title=f\"Veri Profil Raporu - {name}\", explorative=True)\n",
    "    profile.to_file(f\"{name}_profil_raporu.html\")\n",
    "\n",
    "print(\"Profil raporları oluşturuldu ve dosyalar kaydedildi.\")\n"
   ]
  }
 ],
 "metadata": {
  "kernelspec": {
   "display_name": "Python 3",
   "language": "python",
   "name": "python3"
  },
  "language_info": {
   "codemirror_mode": {
    "name": "ipython",
    "version": 3
   },
   "file_extension": ".py",
   "mimetype": "text/x-python",
   "name": "python",
   "nbconvert_exporter": "python",
   "pygments_lexer": "ipython3",
   "version": "3.9.1"
  }
 },
 "nbformat": 4,
 "nbformat_minor": 2
}
